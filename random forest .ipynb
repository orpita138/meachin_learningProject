{
 "cells": [
  {
   "cell_type": "code",
   "execution_count": 26,
   "id": "b70f0be2",
   "metadata": {},
   "outputs": [
    {
     "name": "stdout",
     "output_type": "stream",
     "text": [
      "Mean Squared Error (MSE): 1.711343180107485\n",
      "R-squared (R^2): 0.9999461662931567\n"
     ]
    }
   ],
   "source": [
    "import pandas as pd\n",
    "from sklearn.model_selection import train_test_split\n",
    "from sklearn.ensemble import RandomForestRegressor\n",
    "from sklearn.metrics import mean_squared_error, r2_score\n",
    "\n",
    "# Step 1: Load and prepare the data\n",
    "data = pd.read_csv(\"D:\\software\\DATA ENGINEERING\\machine learning\\Final_Dataset112 (1).csv\")  # Replace \"stock_data.csv\" with your dataset file\n",
    "X = data[['Open', 'High', 'Low', 'Close', 'Prev_Close', 'Volume']]\n",
    "y = data['Close']\n",
    "\n",
    "# Step 2: Split the data into training and testing sets\n",
    "X_train, X_test, y_train, y_test = train_test_split(X, y, test_size=0.2, random_state=42)\n",
    "\n",
    "# Step 3: Build the Random Forest model\n",
    "rf_model = RandomForestRegressor(n_estimators=100, random_state=42)  # You can adjust the number of estimators as needed\n",
    "\n",
    "# Step 4: Train the model\n",
    "rf_model.fit(X_train, y_train)\n",
    "\n",
    "# Step 5: Model evaluation\n",
    "y_pred = rf_model.predict(X_test)\n",
    "mse = mean_squared_error(y_test, y_pred)\n",
    "r2 = r2_score(y_test, y_pred)\n",
    "\n",
    "print(f\"Mean Squared Error (MSE): {mse}\")\n",
    "print(f\"R-squared (R^2): {r2}\")\n",
    "\n",
    "# Step 6: Make predictions on new data (Optional)\n",
    "# You can use the trained model to predict the stock price on new data points if available.\n",
    "\n",
    "# Example prediction:\n",
    "# new_data_point = [[new_open, new_high, new_low, new_prev_close, new_volume]]\n",
    "# predicted_price = rf_model.predict(new_data_point)\n",
    "# print(f\"Predicted price: {predicted_price}\")\n"
   ]
  },
  {
   "cell_type": "code",
   "execution_count": null,
   "id": "d3e0fb50",
   "metadata": {},
   "outputs": [],
   "source": []
  }
 ],
 "metadata": {
  "kernelspec": {
   "display_name": "Python 3 (ipykernel)",
   "language": "python",
   "name": "python3"
  },
  "language_info": {
   "codemirror_mode": {
    "name": "ipython",
    "version": 3
   },
   "file_extension": ".py",
   "mimetype": "text/x-python",
   "name": "python",
   "nbconvert_exporter": "python",
   "pygments_lexer": "ipython3",
   "version": "3.9.12"
  }
 },
 "nbformat": 4,
 "nbformat_minor": 5
}
