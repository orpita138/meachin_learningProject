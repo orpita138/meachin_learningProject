{
 "cells": [
  {
   "cell_type": "markdown",
   "id": "00e74ce8",
   "metadata": {},
   "source": [
    "# Importing Libraries"
   ]
  },
  {
   "cell_type": "code",
   "execution_count": 1,
   "id": "3dd9e843",
   "metadata": {},
   "outputs": [],
   "source": [
    "import pandas as pd\n",
    "import numpy as np"
   ]
  },
  {
   "cell_type": "markdown",
   "id": "7cd70809",
   "metadata": {},
   "source": [
    "# Importing DataSet"
   ]
  },
  {
   "cell_type": "code",
   "execution_count": 2,
   "id": "ad5188c0",
   "metadata": {},
   "outputs": [
    {
     "data": {
      "text/html": [
       "<div>\n",
       "<style scoped>\n",
       "    .dataframe tbody tr th:only-of-type {\n",
       "        vertical-align: middle;\n",
       "    }\n",
       "\n",
       "    .dataframe tbody tr th {\n",
       "        vertical-align: top;\n",
       "    }\n",
       "\n",
       "    .dataframe thead th {\n",
       "        text-align: right;\n",
       "    }\n",
       "</style>\n",
       "<table border=\"1\" class=\"dataframe\">\n",
       "  <thead>\n",
       "    <tr style=\"text-align: right;\">\n",
       "      <th></th>\n",
       "      <th>Date</th>\n",
       "      <th>Symbol</th>\n",
       "      <th>Series</th>\n",
       "      <th>Prev_Close</th>\n",
       "      <th>Open</th>\n",
       "      <th>High</th>\n",
       "      <th>Low</th>\n",
       "      <th>Last</th>\n",
       "      <th>Close</th>\n",
       "      <th>VWAP</th>\n",
       "      <th>Volume</th>\n",
       "      <th>Turnover</th>\n",
       "      <th>Trades</th>\n",
       "      <th>Deliverable_Volume</th>\n",
       "      <th>%Deliverble</th>\n",
       "    </tr>\n",
       "  </thead>\n",
       "  <tbody>\n",
       "    <tr>\n",
       "      <th>0</th>\n",
       "      <td>27-11-2007</td>\n",
       "      <td>MUNDRAPORT</td>\n",
       "      <td>EQ</td>\n",
       "      <td>440.00</td>\n",
       "      <td>770.00</td>\n",
       "      <td>1050.00</td>\n",
       "      <td>770.0</td>\n",
       "      <td>959.0</td>\n",
       "      <td>962.90</td>\n",
       "      <td>984.72</td>\n",
       "      <td>27294366</td>\n",
       "      <td>2.690000e+15</td>\n",
       "      <td>NaN</td>\n",
       "      <td>9859619.0</td>\n",
       "      <td>0.3612</td>\n",
       "    </tr>\n",
       "    <tr>\n",
       "      <th>1</th>\n",
       "      <td>28-11-2007</td>\n",
       "      <td>MUNDRAPORT</td>\n",
       "      <td>EQ</td>\n",
       "      <td>962.90</td>\n",
       "      <td>984.00</td>\n",
       "      <td>990.00</td>\n",
       "      <td>874.0</td>\n",
       "      <td>885.0</td>\n",
       "      <td>893.90</td>\n",
       "      <td>941.38</td>\n",
       "      <td>4581338</td>\n",
       "      <td>4.310000e+14</td>\n",
       "      <td>NaN</td>\n",
       "      <td>1453278.0</td>\n",
       "      <td>0.3172</td>\n",
       "    </tr>\n",
       "    <tr>\n",
       "      <th>2</th>\n",
       "      <td>29-11-2007</td>\n",
       "      <td>MUNDRAPORT</td>\n",
       "      <td>EQ</td>\n",
       "      <td>893.90</td>\n",
       "      <td>909.00</td>\n",
       "      <td>914.75</td>\n",
       "      <td>841.0</td>\n",
       "      <td>887.0</td>\n",
       "      <td>884.20</td>\n",
       "      <td>888.09</td>\n",
       "      <td>5124121</td>\n",
       "      <td>4.550000e+14</td>\n",
       "      <td>NaN</td>\n",
       "      <td>1069678.0</td>\n",
       "      <td>0.2088</td>\n",
       "    </tr>\n",
       "    <tr>\n",
       "      <th>3</th>\n",
       "      <td>30-11-2007</td>\n",
       "      <td>MUNDRAPORT</td>\n",
       "      <td>EQ</td>\n",
       "      <td>884.20</td>\n",
       "      <td>890.00</td>\n",
       "      <td>958.00</td>\n",
       "      <td>890.0</td>\n",
       "      <td>929.0</td>\n",
       "      <td>921.55</td>\n",
       "      <td>929.17</td>\n",
       "      <td>4609762</td>\n",
       "      <td>4.280000e+14</td>\n",
       "      <td>NaN</td>\n",
       "      <td>1260913.0</td>\n",
       "      <td>0.2735</td>\n",
       "    </tr>\n",
       "    <tr>\n",
       "      <th>4</th>\n",
       "      <td>03-12-2007</td>\n",
       "      <td>MUNDRAPORT</td>\n",
       "      <td>EQ</td>\n",
       "      <td>921.55</td>\n",
       "      <td>939.75</td>\n",
       "      <td>995.00</td>\n",
       "      <td>922.0</td>\n",
       "      <td>980.0</td>\n",
       "      <td>969.30</td>\n",
       "      <td>965.65</td>\n",
       "      <td>2977470</td>\n",
       "      <td>2.880000e+14</td>\n",
       "      <td>NaN</td>\n",
       "      <td>816123.0</td>\n",
       "      <td>0.2741</td>\n",
       "    </tr>\n",
       "  </tbody>\n",
       "</table>\n",
       "</div>"
      ],
      "text/plain": [
       "         Date      Symbol Series  Prev_Close    Open     High    Low   Last  \\\n",
       "0  27-11-2007  MUNDRAPORT     EQ      440.00  770.00  1050.00  770.0  959.0   \n",
       "1  28-11-2007  MUNDRAPORT     EQ      962.90  984.00   990.00  874.0  885.0   \n",
       "2  29-11-2007  MUNDRAPORT     EQ      893.90  909.00   914.75  841.0  887.0   \n",
       "3  30-11-2007  MUNDRAPORT     EQ      884.20  890.00   958.00  890.0  929.0   \n",
       "4  03-12-2007  MUNDRAPORT     EQ      921.55  939.75   995.00  922.0  980.0   \n",
       "\n",
       "    Close    VWAP    Volume      Turnover  Trades  Deliverable_Volume  \\\n",
       "0  962.90  984.72  27294366  2.690000e+15     NaN           9859619.0   \n",
       "1  893.90  941.38   4581338  4.310000e+14     NaN           1453278.0   \n",
       "2  884.20  888.09   5124121  4.550000e+14     NaN           1069678.0   \n",
       "3  921.55  929.17   4609762  4.280000e+14     NaN           1260913.0   \n",
       "4  969.30  965.65   2977470  2.880000e+14     NaN            816123.0   \n",
       "\n",
       "   %Deliverble  \n",
       "0       0.3612  \n",
       "1       0.3172  \n",
       "2       0.2088  \n",
       "3       0.2735  \n",
       "4       0.2741  "
      ]
     },
     "execution_count": 2,
     "metadata": {},
     "output_type": "execute_result"
    }
   ],
   "source": [
    "stock_dataset=pd.read_csv(\"D:/Project/Used dataset/NIFTY50_all.csv\",names=[\"Date\",\"Symbol\",\"Series\",\"Prev_Close\",\"Open\",\"High\",\"Low\",\"Last\",\"Close\",\"VWAP\",\"Volume\",\"Turnover\",\"Trades\",\"Deliverable_Volume\",\"%Deliverble\"],skiprows=[0])\n",
    "stock_dataset.head()"
   ]
  },
  {
   "cell_type": "markdown",
   "id": "ea8ca1b7",
   "metadata": {},
   "source": [
    "# Describe Data"
   ]
  },
  {
   "cell_type": "code",
   "execution_count": 3,
   "id": "1d336b8d",
   "metadata": {},
   "outputs": [
    {
     "data": {
      "text/html": [
       "<div>\n",
       "<style scoped>\n",
       "    .dataframe tbody tr th:only-of-type {\n",
       "        vertical-align: middle;\n",
       "    }\n",
       "\n",
       "    .dataframe tbody tr th {\n",
       "        vertical-align: top;\n",
       "    }\n",
       "\n",
       "    .dataframe thead th {\n",
       "        text-align: right;\n",
       "    }\n",
       "</style>\n",
       "<table border=\"1\" class=\"dataframe\">\n",
       "  <thead>\n",
       "    <tr style=\"text-align: right;\">\n",
       "      <th></th>\n",
       "      <th>Prev_Close</th>\n",
       "      <th>Open</th>\n",
       "      <th>High</th>\n",
       "      <th>Low</th>\n",
       "      <th>Last</th>\n",
       "      <th>Close</th>\n",
       "      <th>VWAP</th>\n",
       "      <th>Volume</th>\n",
       "      <th>Turnover</th>\n",
       "      <th>Trades</th>\n",
       "      <th>Deliverable_Volume</th>\n",
       "      <th>%Deliverble</th>\n",
       "    </tr>\n",
       "  </thead>\n",
       "  <tbody>\n",
       "    <tr>\n",
       "      <th>count</th>\n",
       "      <td>235192.000000</td>\n",
       "      <td>235192.000000</td>\n",
       "      <td>235192.000000</td>\n",
       "      <td>235192.000000</td>\n",
       "      <td>235192.000000</td>\n",
       "      <td>235192.000000</td>\n",
       "      <td>235192.00000</td>\n",
       "      <td>2.351920e+05</td>\n",
       "      <td>2.351920e+05</td>\n",
       "      <td>1.203440e+05</td>\n",
       "      <td>2.191150e+05</td>\n",
       "      <td>219115.000000</td>\n",
       "    </tr>\n",
       "    <tr>\n",
       "      <th>mean</th>\n",
       "      <td>1266.196349</td>\n",
       "      <td>1267.759708</td>\n",
       "      <td>1286.581440</td>\n",
       "      <td>1247.488465</td>\n",
       "      <td>1266.388302</td>\n",
       "      <td>1266.554351</td>\n",
       "      <td>1267.13230</td>\n",
       "      <td>3.045903e+06</td>\n",
       "      <td>1.610122e+14</td>\n",
       "      <td>6.196427e+04</td>\n",
       "      <td>1.315098e+06</td>\n",
       "      <td>0.502997</td>\n",
       "    </tr>\n",
       "    <tr>\n",
       "      <th>std</th>\n",
       "      <td>2581.370320</td>\n",
       "      <td>2585.259609</td>\n",
       "      <td>2619.649216</td>\n",
       "      <td>2546.621396</td>\n",
       "      <td>2581.392543</td>\n",
       "      <td>2582.140942</td>\n",
       "      <td>2582.69998</td>\n",
       "      <td>7.333981e+06</td>\n",
       "      <td>3.297761e+14</td>\n",
       "      <td>6.866457e+04</td>\n",
       "      <td>2.831670e+06</td>\n",
       "      <td>0.190019</td>\n",
       "    </tr>\n",
       "    <tr>\n",
       "      <th>min</th>\n",
       "      <td>0.000000</td>\n",
       "      <td>8.500000</td>\n",
       "      <td>9.750000</td>\n",
       "      <td>8.500000</td>\n",
       "      <td>9.100000</td>\n",
       "      <td>9.150000</td>\n",
       "      <td>9.21000</td>\n",
       "      <td>3.000000e+00</td>\n",
       "      <td>1.047000e+07</td>\n",
       "      <td>1.100000e+01</td>\n",
       "      <td>5.000000e+00</td>\n",
       "      <td>0.023600</td>\n",
       "    </tr>\n",
       "    <tr>\n",
       "      <th>25%</th>\n",
       "      <td>274.300000</td>\n",
       "      <td>275.000000</td>\n",
       "      <td>279.500000</td>\n",
       "      <td>269.600000</td>\n",
       "      <td>274.400000</td>\n",
       "      <td>274.350000</td>\n",
       "      <td>274.69750</td>\n",
       "      <td>2.190095e+05</td>\n",
       "      <td>1.610000e+13</td>\n",
       "      <td>2.183400e+04</td>\n",
       "      <td>1.253830e+05</td>\n",
       "      <td>0.364700</td>\n",
       "    </tr>\n",
       "    <tr>\n",
       "      <th>50%</th>\n",
       "      <td>566.500000</td>\n",
       "      <td>567.025000</td>\n",
       "      <td>576.900000</td>\n",
       "      <td>556.500000</td>\n",
       "      <td>567.000000</td>\n",
       "      <td>566.700000</td>\n",
       "      <td>566.94000</td>\n",
       "      <td>1.010938e+06</td>\n",
       "      <td>6.830000e+13</td>\n",
       "      <td>4.406800e+04</td>\n",
       "      <td>5.017560e+05</td>\n",
       "      <td>0.511000</td>\n",
       "    </tr>\n",
       "    <tr>\n",
       "      <th>75%</th>\n",
       "      <td>1242.200000</td>\n",
       "      <td>1243.312500</td>\n",
       "      <td>1263.000000</td>\n",
       "      <td>1221.650000</td>\n",
       "      <td>1242.900000</td>\n",
       "      <td>1242.400000</td>\n",
       "      <td>1242.66250</td>\n",
       "      <td>3.019851e+06</td>\n",
       "      <td>1.860000e+14</td>\n",
       "      <td>7.893550e+04</td>\n",
       "      <td>1.452233e+06</td>\n",
       "      <td>0.638400</td>\n",
       "    </tr>\n",
       "    <tr>\n",
       "      <th>max</th>\n",
       "      <td>32861.950000</td>\n",
       "      <td>33399.950000</td>\n",
       "      <td>33480.000000</td>\n",
       "      <td>32468.100000</td>\n",
       "      <td>32849.000000</td>\n",
       "      <td>32861.950000</td>\n",
       "      <td>32975.24000</td>\n",
       "      <td>4.810589e+08</td>\n",
       "      <td>3.560000e+16</td>\n",
       "      <td>1.643015e+06</td>\n",
       "      <td>2.325307e+08</td>\n",
       "      <td>1.000000</td>\n",
       "    </tr>\n",
       "  </tbody>\n",
       "</table>\n",
       "</div>"
      ],
      "text/plain": [
       "          Prev_Close           Open           High            Low  \\\n",
       "count  235192.000000  235192.000000  235192.000000  235192.000000   \n",
       "mean     1266.196349    1267.759708    1286.581440    1247.488465   \n",
       "std      2581.370320    2585.259609    2619.649216    2546.621396   \n",
       "min         0.000000       8.500000       9.750000       8.500000   \n",
       "25%       274.300000     275.000000     279.500000     269.600000   \n",
       "50%       566.500000     567.025000     576.900000     556.500000   \n",
       "75%      1242.200000    1243.312500    1263.000000    1221.650000   \n",
       "max     32861.950000   33399.950000   33480.000000   32468.100000   \n",
       "\n",
       "                Last          Close          VWAP        Volume      Turnover  \\\n",
       "count  235192.000000  235192.000000  235192.00000  2.351920e+05  2.351920e+05   \n",
       "mean     1266.388302    1266.554351    1267.13230  3.045903e+06  1.610122e+14   \n",
       "std      2581.392543    2582.140942    2582.69998  7.333981e+06  3.297761e+14   \n",
       "min         9.100000       9.150000       9.21000  3.000000e+00  1.047000e+07   \n",
       "25%       274.400000     274.350000     274.69750  2.190095e+05  1.610000e+13   \n",
       "50%       567.000000     566.700000     566.94000  1.010938e+06  6.830000e+13   \n",
       "75%      1242.900000    1242.400000    1242.66250  3.019851e+06  1.860000e+14   \n",
       "max     32849.000000   32861.950000   32975.24000  4.810589e+08  3.560000e+16   \n",
       "\n",
       "             Trades  Deliverable_Volume    %Deliverble  \n",
       "count  1.203440e+05        2.191150e+05  219115.000000  \n",
       "mean   6.196427e+04        1.315098e+06       0.502997  \n",
       "std    6.866457e+04        2.831670e+06       0.190019  \n",
       "min    1.100000e+01        5.000000e+00       0.023600  \n",
       "25%    2.183400e+04        1.253830e+05       0.364700  \n",
       "50%    4.406800e+04        5.017560e+05       0.511000  \n",
       "75%    7.893550e+04        1.452233e+06       0.638400  \n",
       "max    1.643015e+06        2.325307e+08       1.000000  "
      ]
     },
     "execution_count": 3,
     "metadata": {},
     "output_type": "execute_result"
    }
   ],
   "source": [
    "stock_dataset.describe()"
   ]
  },
  {
   "cell_type": "markdown",
   "id": "878e0e20",
   "metadata": {},
   "source": [
    "# Finding is there any NULL values"
   ]
  },
  {
   "cell_type": "code",
   "execution_count": 3,
   "id": "f3ba9dd9",
   "metadata": {},
   "outputs": [
    {
     "data": {
      "text/plain": [
       "Date                  False\n",
       "Symbol                False\n",
       "Series                False\n",
       "Prev_Close            False\n",
       "Open                  False\n",
       "High                  False\n",
       "Low                   False\n",
       "Last                  False\n",
       "Close                 False\n",
       "VWAP                  False\n",
       "Volume                False\n",
       "Turnover              False\n",
       "Trades                 True\n",
       "Deliverable_Volume     True\n",
       "%Deliverble            True\n",
       "dtype: bool"
      ]
     },
     "execution_count": 3,
     "metadata": {},
     "output_type": "execute_result"
    }
   ],
   "source": [
    "stock_dataset.isna().any()"
   ]
  },
  {
   "cell_type": "markdown",
   "id": "05933384",
   "metadata": {},
   "source": [
    "# List of Columns containing NULL values"
   ]
  },
  {
   "cell_type": "code",
   "execution_count": 4,
   "id": "8b13726a",
   "metadata": {},
   "outputs": [
    {
     "data": {
      "text/plain": [
       "['Trades', 'Deliverable_Volume', '%Deliverble']"
      ]
     },
     "execution_count": 4,
     "metadata": {},
     "output_type": "execute_result"
    }
   ],
   "source": [
    "stock_dataset.columns[stock_dataset.isna().any()].tolist()"
   ]
  },
  {
   "cell_type": "markdown",
   "id": "7e33384f",
   "metadata": {},
   "source": [
    "# Dropping NULL value"
   ]
  },
  {
   "cell_type": "code",
   "execution_count": 5,
   "id": "4ec9dfe7",
   "metadata": {},
   "outputs": [
    {
     "name": "stdout",
     "output_type": "stream",
     "text": [
      "There is no NULL value in Dataset\n"
     ]
    }
   ],
   "source": [
    "stock_dataset_1=stock_dataset  #Storing Original Dataset \n",
    "\n",
    "stock_dataset_1=stock_dataset_1.dropna()\n",
    "\n",
    "a=stock_dataset_1.isnull().values.any()\n",
    "if (a==True):\n",
    "    print(\"NULL value present in Dataset\")\n",
    "else:\n",
    "    print(\"There is no NULL value in Dataset\")"
   ]
  },
  {
   "cell_type": "markdown",
   "id": "98ccf83b",
   "metadata": {},
   "source": [
    "# Checking for NULL value after dropping"
   ]
  },
  {
   "cell_type": "code",
   "execution_count": 6,
   "id": "ec8f5a0b",
   "metadata": {},
   "outputs": [
    {
     "data": {
      "text/plain": [
       "Date                  False\n",
       "Symbol                False\n",
       "Series                False\n",
       "Prev_Close            False\n",
       "Open                  False\n",
       "High                  False\n",
       "Low                   False\n",
       "Last                  False\n",
       "Close                 False\n",
       "VWAP                  False\n",
       "Volume                False\n",
       "Turnover              False\n",
       "Trades                False\n",
       "Deliverable_Volume    False\n",
       "%Deliverble           False\n",
       "dtype: bool"
      ]
     },
     "execution_count": 6,
     "metadata": {},
     "output_type": "execute_result"
    }
   ],
   "source": [
    "stock_dataset_1.isna().any()"
   ]
  },
  {
   "cell_type": "code",
   "execution_count": 8,
   "id": "3190088d",
   "metadata": {},
   "outputs": [
    {
     "data": {
      "text/plain": [
       "[]"
      ]
     },
     "execution_count": 8,
     "metadata": {},
     "output_type": "execute_result"
    }
   ],
   "source": [
    "stock_dataset_1.columns[stock_dataset_1.isna().any()].tolist()"
   ]
  },
  {
   "cell_type": "markdown",
   "id": "f7a6f368",
   "metadata": {},
   "source": [
    "# Counting Records in Dataset After Dropping Null Value"
   ]
  },
  {
   "cell_type": "code",
   "execution_count": 9,
   "id": "9c043518",
   "metadata": {},
   "outputs": [
    {
     "name": "stdout",
     "output_type": "stream",
     "text": [
      "Original Dataset length: 235192\n",
      "After dropping null value Dataset length: 120344\n",
      "Number of rows to be drop having at least 1 null value:  114848\n"
     ]
    }
   ],
   "source": [
    "print(\"Original Dataset length:\", len(stock_dataset))\n",
    "print(\"After dropping null value Dataset length:\", len(stock_dataset_1)) \n",
    "print(\"Number of rows to be drop having at least 1 null value: \", (len(stock_dataset)-len(stock_dataset_1)))"
   ]
  }
 ],
 "metadata": {
  "kernelspec": {
   "display_name": "Python 3 (ipykernel)",
   "language": "python",
   "name": "python3"
  },
  "language_info": {
   "codemirror_mode": {
    "name": "ipython",
    "version": 3
   },
   "file_extension": ".py",
   "mimetype": "text/x-python",
   "name": "python",
   "nbconvert_exporter": "python",
   "pygments_lexer": "ipython3",
   "version": "3.10.9"
  }
 },
 "nbformat": 4,
 "nbformat_minor": 5
}
